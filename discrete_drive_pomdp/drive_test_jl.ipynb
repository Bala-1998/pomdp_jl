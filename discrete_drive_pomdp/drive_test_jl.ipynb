{
 "cells": [
  {
   "cell_type": "code",
   "execution_count": 25,
   "metadata": {},
   "outputs": [],
   "source": [
    "using POMDPs\n",
    "using POMDPModelTools\n",
    "using Distributions\n",
    "using POMDPPolicies  # For random policy, you might need different packages for other policies like POMCP\n",
    "using POMDPSimulators\n",
    "using POMDPModels\n",
    "using BeliefUpdaters\n",
    "using Printf\n",
    "using FIB"
   ]
  },
  {
   "cell_type": "code",
   "execution_count": 26,
   "metadata": {},
   "outputs": [],
   "source": [
    "struct MyState\n",
    "    s::Tuple{Int, Int}\n",
    "    z::Int\n",
    "    phi::Int\n",
    "end"
   ]
  },
  {
   "cell_type": "code",
   "execution_count": 27,
   "metadata": {},
   "outputs": [],
   "source": [
    "struct MyAction\n",
    "    a::String\n",
    "end\n"
   ]
  },
  {
   "cell_type": "code",
   "execution_count": 28,
   "metadata": {},
   "outputs": [],
   "source": [
    "struct MyObservation\n",
    "    s::Tuple{Int, Int}\n",
    "    a::String\n",
    "end"
   ]
  },
  {
   "cell_type": "code",
   "execution_count": 29,
   "metadata": {},
   "outputs": [
    {
     "data": {
      "text/plain": [
       "human_policy (generic function with 1 method)"
      ]
     },
     "metadata": {},
     "output_type": "display_data"
    }
   ],
   "source": [
    "function human_policy(s, z)\n",
    "    if s != (0, 0) # maybe the not equal operation is not working here\n",
    "        return 0.5\n",
    "    elseif z == 0\n",
    "        return 0.9\n",
    "    else\n",
    "        return 0.1\n",
    "    end\n",
    "end\n"
   ]
  },
  {
   "cell_type": "code",
   "execution_count": 30,
   "metadata": {},
   "outputs": [
    {
     "data": {
      "text/plain": [
       "human_dynamics (generic function with 1 method)"
      ]
     },
     "metadata": {},
     "output_type": "display_data"
    }
   ],
   "source": [
    "\n",
    "function human_dynamics(s, z, phi)\n",
    "    if phi == 0 || (s[1] == 1 && s[2] == 1) # Check for or operation\n",
    "        return 0\n",
    "    else\n",
    "        return z\n",
    "    end\n",
    "end"
   ]
  },
  {
   "cell_type": "code",
   "execution_count": 31,
   "metadata": {},
   "outputs": [],
   "source": [
    "struct DrivePOMDP <: POMDP{MyState, MyAction, MyObservation} # POMDP{State, Action, Observation}\n",
    "end"
   ]
  },
  {
   "cell_type": "code",
   "execution_count": 32,
   "metadata": {},
   "outputs": [],
   "source": [
    "function POMDPs.states(pomdp::DrivePOMDP)\n",
    "    s = MyState[] # initialize an array of GridWorldStates\n",
    "    # loop over all our states, remeber there are two binary variables:\n",
    "    # done (d)\n",
    "    for x = 0:1, y = 0:1, z = 0:1, phi = 0:1\n",
    "        push!(s, MyState((x,y),z, phi)) # check if statespace is being fully formed\n",
    "    end\n",
    "    return s\n",
    "end"
   ]
  },
  {
   "cell_type": "code",
   "execution_count": 33,
   "metadata": {},
   "outputs": [],
   "source": [
    "function POMDPs.stateindex(pomdp::DrivePOMDP, state::MyState)\n",
    "    \n",
    "    idx = 1 + state.s[1]*(2^0) + state.s[2]*(2^1) + state.z*(2^2)+ state.phi*(2^3) # check if idx is being correctly returned\n",
    "    return idx \n",
    "end"
   ]
  },
  {
   "cell_type": "code",
   "execution_count": 34,
   "metadata": {},
   "outputs": [],
   "source": [
    "function POMDPs.actions(pomdp::DrivePOMDP)\n",
    "    s = MyAction[]\n",
    "    for x = 0:1\n",
    "        if (x == 0)\n",
    "            push!(s, MyAction(\"stop\"))\n",
    "        else\n",
    "            push!(s, MyAction(\"go\"))\n",
    "        end\n",
    "    end\n",
    "end"
   ]
  },
  {
   "cell_type": "code",
   "execution_count": 35,
   "metadata": {},
   "outputs": [],
   "source": [
    "function POMDPs.actionindex(pomdp::DrivePOMDP, act::MyAction)\n",
    "    \n",
    "    if act.a ==\"stop\"\n",
    "        return 1\n",
    "    else\n",
    "        return 2\n",
    "    end\n",
    "end"
   ]
  },
  {
   "cell_type": "code",
   "execution_count": 36,
   "metadata": {},
   "outputs": [],
   "source": [
    "function POMDPs.observations(pomdp::DrivePOMDP)\n",
    "    s = MyObservation[] \n",
    "    for x = 0:1, y = 0:1, a = 0:1\n",
    "        if (a == 0)\n",
    "            push!(s,MyObservation((x,y),\"stop\"))\n",
    "        else\n",
    "            push!(s,MyObservation((x,y),\"go\"))\n",
    "        end\n",
    "    end\n",
    "    return s\n",
    "end"
   ]
  },
  {
   "cell_type": "code",
   "execution_count": 37,
   "metadata": {},
   "outputs": [],
   "source": [
    "function POMDPs.obsindex(pomdp::DrivePOMDP, o::MyObservation)\n",
    "    if o.a == \"stop\"\n",
    "        idx = 1 + o.s[1]*(2^0) + o.s[2]*(2^1) + 0*(2^2)\n",
    "    else \n",
    "        idx = 1 + o.s[1]*(2^0) + o.s[2]*(2^1) + 1*(2^2)\n",
    "    end\n",
    "    return idx \n",
    "end"
   ]
  },
  {
   "cell_type": "code",
   "execution_count": 38,
   "metadata": {},
   "outputs": [],
   "source": [
    "function POMDPs.reward(pomdp::DrivePOMDP, state::MyState, action::MyAction)\n",
    "    s = state.s\n",
    "    if s == (0, 0)\n",
    "        return 0\n",
    "    elseif s == (1, 0)\n",
    "        return -3\n",
    "    elseif s == (1, 1)\n",
    "        return -10\n",
    "    elseif s == (0, 1)\n",
    "        return +5\n",
    "    else\n",
    "        return 0\n",
    "    end\n",
    "end"
   ]
  },
  {
   "cell_type": "code",
   "execution_count": 39,
   "metadata": {},
   "outputs": [],
   "source": [
    "function POMDPs.observation(pomdp::DrivePOMDP, state::MyState, action::MyAction)\n",
    "    s, z = state.s, state.z\n",
    "    a = action\n",
    "    p_stop = human_policy(s, z)\n",
    "\n",
    "    if rand() < p_stop\n",
    "        return MyObservation(s, \"stop\")\n",
    "    else\n",
    "        return MyObservation(s, \"go\")\n",
    "    end\n",
    "end"
   ]
  },
  {
   "cell_type": "code",
   "execution_count": 40,
   "metadata": {},
   "outputs": [],
   "source": [
    "function POMDPs.transition(pomdp::DrivePOMDP, state::MyState, action::MyAction)\n",
    "    s, z, phi = state.s, state.z, state.phi\n",
    "    a = action.a\n",
    "    p_stop = human_policy(s, z)\n",
    "\n",
    "    # reset the game\n",
    "    if s[1] > 0 || s[2] > 0\n",
    "        return MyState((0, 0), human_dynamics(s, z, phi), phi)\n",
    "    end\n",
    "\n",
    "    # move robot car\n",
    "    s1 = [s[1], s[2]]\n",
    "    if a == \"go\"\n",
    "        s1[2] += 1\n",
    "    end\n",
    "\n",
    "    # move human car\n",
    "    if rand() < p_stop\n",
    "        return MyState((s1[1], s1[2]), human_dynamics(s, z, phi), phi)\n",
    "    else\n",
    "        s1[1] += 1\n",
    "        return MyState((s1[1], s1[2]), human_dynamics(s, z, phi), phi)\n",
    "    end\n",
    "end"
   ]
  },
  {
   "cell_type": "code",
   "execution_count": 41,
   "metadata": {},
   "outputs": [],
   "source": [
    "POMDPs.discount(pomdp::DrivePOMDP) = 0.95"
   ]
  },
  {
   "cell_type": "code",
   "execution_count": 42,
   "metadata": {},
   "outputs": [],
   "source": [
    "POMDPs.initialstate(pomdp::DrivePOMDP) = MyState((0, 0), 1, 1)"
   ]
  },
  {
   "cell_type": "code",
   "execution_count": 43,
   "metadata": {},
   "outputs": [
    {
     "data": {
      "text/plain": [
       "DrivePOMDP()"
      ]
     },
     "metadata": {},
     "output_type": "display_data"
    }
   ],
   "source": [
    "pomdp = DrivePOMDP()"
   ]
  },
  {
   "cell_type": "code",
   "execution_count": 44,
   "metadata": {},
   "outputs": [
    {
     "data": {
      "text/plain": [
       "RandomPolicy{TaskLocalRNG, DrivePOMDP, NothingUpdater}(TaskLocalRNG(), DrivePOMDP(), NothingUpdater())"
      ]
     },
     "metadata": {},
     "output_type": "display_data"
    }
   ],
   "source": [
    "using Random\n",
    "policy = RandomPolicy(pomdp)\n"
   ]
  },
  {
   "cell_type": "code",
   "execution_count": 45,
   "metadata": {},
   "outputs": [
    {
     "ename": "MethodError",
     "evalue": "MethodError: no method matching Random.Sampler(::Type{TaskLocalRNG}, ::Random.SamplerTrivial{MyState, Any}, ::Val{1})\n\nClosest candidates are:\n  Random.Sampler(::Type{<:AbstractRNG}, ::Random.Sampler, ::Union{Val{1}, Val{Inf}})\n   @ Random ~/.julia/juliaup/julia-1.9.4+0.x64.linux.gnu/share/julia/stdlib/v1.9/Random/src/Random.jl:148\n  Random.Sampler(::Type{<:AbstractRNG}, ::Any, ::Union{Val{1}, Val{Inf}})\n   @ Random ~/.julia/juliaup/julia-1.9.4+0.x64.linux.gnu/share/julia/stdlib/v1.9/Random/src/Random.jl:184\n  Random.Sampler(!Matched::AbstractRNG, ::Any, ::Union{Val{1}, Val{Inf}})\n   @ Random ~/.julia/juliaup/julia-1.9.4+0.x64.linux.gnu/share/julia/stdlib/v1.9/Random/src/Random.jl:140\n  ...\n",
     "output_type": "error",
     "traceback": [
      "MethodError: no method matching Random.Sampler(::Type{TaskLocalRNG}, ::Random.SamplerTrivial{MyState, Any}, ::Val{1})\n",
      "\n",
      "Closest candidates are:\n",
      "  Random.Sampler(::Type{<:AbstractRNG}, ::Random.Sampler, ::Union{Val{1}, Val{Inf}})\n",
      "   @ Random ~/.julia/juliaup/julia-1.9.4+0.x64.linux.gnu/share/julia/stdlib/v1.9/Random/src/Random.jl:148\n",
      "  Random.Sampler(::Type{<:AbstractRNG}, ::Any, ::Union{Val{1}, Val{Inf}})\n",
      "   @ Random ~/.julia/juliaup/julia-1.9.4+0.x64.linux.gnu/share/julia/stdlib/v1.9/Random/src/Random.jl:184\n",
      "  Random.Sampler(!Matched::AbstractRNG, ::Any, ::Union{Val{1}, Val{Inf}})\n",
      "   @ Random ~/.julia/juliaup/julia-1.9.4+0.x64.linux.gnu/share/julia/stdlib/v1.9/Random/src/Random.jl:140\n",
      "  ...\n",
      "\n",
      "\n",
      "Stacktrace:\n",
      " [1] Random.Sampler(T::Type{TaskLocalRNG}, sp::Random.SamplerTrivial{MyState, Any}, r::Val{1})\n",
      "   @ Random ~/.julia/juliaup/julia-1.9.4+0.x64.linux.gnu/share/julia/stdlib/v1.9/Random/src/Random.jl:148\n",
      " [2] Random.Sampler(rng::TaskLocalRNG, x::Random.SamplerTrivial{MyState, Any}, r::Val{1})\n",
      "   @ Random ~/.julia/juliaup/julia-1.9.4+0.x64.linux.gnu/share/julia/stdlib/v1.9/Random/src/Random.jl:140\n",
      " [3] rand(rng::TaskLocalRNG, X::Random.SamplerTrivial{MyState, Any})\n",
      "   @ Random ~/.julia/juliaup/julia-1.9.4+0.x64.linux.gnu/share/julia/stdlib/v1.9/Random/src/Random.jl:256\n",
      " [4] rand(rng::TaskLocalRNG, X::MyState)\n",
      "   @ Random ~/.julia/juliaup/julia-1.9.4+0.x64.linux.gnu/share/julia/stdlib/v1.9/Random/src/Random.jl:256\n",
      " [5] simulate(sim::StepSimulator, pomdp::DrivePOMDP, policy::RandomPolicy{TaskLocalRNG, DrivePOMDP, NothingUpdater}, bu::NothingUpdater, dist::MyState)\n",
      "   @ POMDPTools.Simulators ~/.julia/packages/POMDPTools/7Rekv/src/Simulators/stepthrough.jl:25\n",
      " [6] simulate(sim::StepSimulator, pomdp::DrivePOMDP, policy::RandomPolicy{TaskLocalRNG, DrivePOMDP, NothingUpdater}, bu::NothingUpdater)\n",
      "   @ POMDPTools.Simulators ~/.julia/packages/POMDPTools/7Rekv/src/Simulators/stepthrough.jl:21\n",
      " [7] simulate(sim::StepSimulator, pomdp::DrivePOMDP, policy::RandomPolicy{TaskLocalRNG, DrivePOMDP, NothingUpdater})\n",
      "   @ POMDPTools.Simulators ~/.julia/packages/POMDPTools/7Rekv/src/Simulators/stepthrough.jl:20\n",
      " [8] stepthrough(pomdp::DrivePOMDP, policy::RandomPolicy{TaskLocalRNG, DrivePOMDP, NothingUpdater}, args::String; kwargs::Base.Pairs{Symbol, Int64, Tuple{Symbol}, NamedTuple{(:max_steps,), Tuple{Int64}}})\n",
      "   @ POMDPTools.Simulators ~/.julia/packages/POMDPTools/7Rekv/src/Simulators/stepthrough.jl:212\n",
      " [9] top-level scope\n",
      "   @ ~/Fall23/aizen/pomdp_test/drive_test_jl.ipynb:1"
     ]
    }
   ],
   "source": [
    "for (s, a, r) in stepthrough(pomdp, policy, \"s,a,r\", max_steps=10)\n",
    "    @show s\n",
    "    @show a\n",
    "    @show r\n",
    "    println()\n",
    "end"
   ]
  },
  {
   "cell_type": "code",
   "execution_count": 46,
   "metadata": {},
   "outputs": [
    {
     "data": {
      "text/plain": [
       "FIBSolver(100, 0.001, false)"
      ]
     },
     "metadata": {},
     "output_type": "display_data"
    }
   ],
   "source": [
    "solver = FIBSolver()"
   ]
  },
  {
   "cell_type": "code",
   "execution_count": 47,
   "metadata": {},
   "outputs": [
    {
     "ename": "MethodError",
     "evalue": "MethodError: no method matching length(::Nothing)\n\nClosest candidates are:\n  length(!Matched::Union{Base.KeySet, Base.ValueIterator})\n   @ Base abstractdict.jl:58\n  length(!Matched::Union{SparseArrays.FixedSparseVector{Tv, Ti}, SparseArrays.SparseVector{Tv, Ti}} where {Tv, Ti})\n   @ SparseArrays ~/.julia/juliaup/julia-1.9.4+0.x64.linux.gnu/share/julia/stdlib/v1.9/SparseArrays/src/sparsevector.jl:95\n  length(!Matched::Union{DataStructures.OrderedRobinDict, DataStructures.RobinDict})\n   @ DataStructures ~/.julia/packages/DataStructures/MKv4P/src/ordered_robin_dict.jl:86\n  ...\n",
     "output_type": "error",
     "traceback": [
      "MethodError: no method matching length(::Nothing)\n",
      "\n",
      "Closest candidates are:\n",
      "  length(!Matched::Union{Base.KeySet, Base.ValueIterator})\n",
      "   @ Base abstractdict.jl:58\n",
      "  length(!Matched::Union{SparseArrays.FixedSparseVector{Tv, Ti}, SparseArrays.SparseVector{Tv, Ti}} where {Tv, Ti})\n",
      "   @ SparseArrays ~/.julia/juliaup/julia-1.9.4+0.x64.linux.gnu/share/julia/stdlib/v1.9/SparseArrays/src/sparsevector.jl:95\n",
      "  length(!Matched::Union{DataStructures.OrderedRobinDict, DataStructures.RobinDict})\n",
      "   @ DataStructures ~/.julia/packages/DataStructures/MKv4P/src/ordered_robin_dict.jl:86\n",
      "  ...\n",
      "\n",
      "\n",
      "Stacktrace:\n",
      " [1] ordered_vector(T::Type, index::POMDPTools.ModelTools.var\"#1#2\"{DrivePOMDP}, space::Nothing, singular::String, plural::String)\n",
      "   @ POMDPTools.ModelTools ~/.julia/packages/POMDPTools/7Rekv/src/ModelTools/ordered_spaces.jl:31\n",
      " [2] ordered_vector(T::Type, index::Function, space::Nothing, singular::String)\n",
      "   @ POMDPTools.ModelTools ~/.julia/packages/POMDPTools/7Rekv/src/ModelTools/ordered_spaces.jl:31\n",
      " [3] ordered_actions(mdp::DrivePOMDP)\n",
      "   @ POMDPTools.ModelTools ~/.julia/packages/POMDPTools/7Rekv/src/ModelTools/ordered_spaces.jl:10\n",
      " [4] solve(solver::FIBSolver, pomdp::DrivePOMDP; kwargs::Base.Pairs{Symbol, Union{}, Tuple{}, NamedTuple{(), Tuple{}}})\n",
      "   @ FIB ~/.julia/packages/FIB/B3VOH/src/vanilla.jl:19\n",
      " [5] solve(solver::FIBSolver, pomdp::DrivePOMDP)\n",
      "   @ FIB ~/.julia/packages/FIB/B3VOH/src/vanilla.jl:12\n",
      " [6] top-level scope\n",
      "   @ ~/Fall23/aizen/pomdp_test/drive_test_jl.ipynb:2"
     ]
    }
   ],
   "source": [
    "# Solve the problem offline and obtain the FIB policy which is an AlphaVectorPolicy\n",
    "fib_policy = solve(solver, pomdp)"
   ]
  },
  {
   "cell_type": "code",
   "execution_count": 48,
   "metadata": {},
   "outputs": [],
   "source": [
    "\n",
    "# Create a TigerPOMDP policy that chooses actions at random\n",
    "rand_policy = RandomPolicy(pomdp);"
   ]
  },
  {
   "cell_type": "code",
   "execution_count": 49,
   "metadata": {},
   "outputs": [
    {
     "ename": "UndefVarError",
     "evalue": "UndefVarError: `rollout_sim` not defined",
     "output_type": "error",
     "traceback": [
      "UndefVarError: `rollout_sim` not defined\n",
      "\n",
      "Stacktrace:\n",
      " [1] top-level scope\n",
      "   @ ~/Fall23/aizen/pomdp_test/drive_test_jl.ipynb:1"
     ]
    }
   ],
   "source": [
    "fib_reward = simulate(rollout_sim, pomdp, fib_policy);\n",
    "rand_reward = simulate(rollout_sim, pomdp, rand_policy);"
   ]
  },
  {
   "cell_type": "code",
   "execution_count": 50,
   "metadata": {},
   "outputs": [
    {
     "ename": "UndefVarError",
     "evalue": "UndefVarError: `fib_reward` not defined",
     "output_type": "error",
     "traceback": [
      "UndefVarError: `fib_reward` not defined\n",
      "\n",
      "Stacktrace:\n",
      " [1] top-level scope\n",
      "   @ show.jl:1128"
     ]
    }
   ],
   "source": [
    "@show fib_reward;\n",
    "@show rand_reward;"
   ]
  }
 ],
 "metadata": {
  "kernelspec": {
   "display_name": "Julia 1.9.4",
   "language": "julia",
   "name": "julia-1.9"
  },
  "language_info": {
   "file_extension": ".jl",
   "mimetype": "application/julia",
   "name": "julia",
   "version": "1.9.4"
  }
 },
 "nbformat": 4,
 "nbformat_minor": 2
}
