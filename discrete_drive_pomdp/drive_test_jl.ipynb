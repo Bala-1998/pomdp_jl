{
 "cells": [
  {
   "cell_type": "code",
   "execution_count": 1,
   "metadata": {},
   "outputs": [],
   "source": [
    "using POMDPs\n",
    "using POMDPModelTools\n",
    "using Distributions\n",
    "using POMDPPolicies  # For random policy, you might need different packages for other policies like POMCP\n",
    "using POMDPSimulators\n",
    "using POMDPModels\n",
    "using BeliefUpdaters\n",
    "using Printf\n",
    "using FIB"
   ]
  },
  {
   "cell_type": "code",
   "execution_count": 2,
   "metadata": {},
   "outputs": [],
   "source": [
    "struct driveState\n",
    "    h::Int\n",
    "    r::Int\n",
    "    z::Int\n",
    "    phi::Int\n",
    "end"
   ]
  },
  {
   "cell_type": "code",
   "execution_count": 3,
   "metadata": {},
   "outputs": [],
   "source": [
    "struct driveObservation\n",
    "    h::Int\n",
    "    r::Int\n",
    "    a::Int\n",
    "end"
   ]
  },
  {
   "cell_type": "code",
   "execution_count": 4,
   "metadata": {},
   "outputs": [
    {
     "data": {
      "text/plain": [
       "human_policy (generic function with 1 method)"
      ]
     },
     "metadata": {},
     "output_type": "display_data"
    }
   ],
   "source": [
    "# return probability of action = \"stop\"\n",
    "function human_policy(h, r,  z)\n",
    "    if h != 0 || r !=0 # maybe the not equal operation is not working here\n",
    "        return 0.5\n",
    "    elseif z == 0\n",
    "        return 0.9\n",
    "    else\n",
    "        return 0.1\n",
    "    end\n",
    "end\n"
   ]
  },
  {
   "cell_type": "code",
   "execution_count": 5,
   "metadata": {},
   "outputs": [
    {
     "name": "stdout",
     "output_type": "stream",
     "text": [
      "0.9\n"
     ]
    }
   ],
   "source": [
    "m = human_policy(0,0,0)\n",
    "println(m)"
   ]
  },
  {
   "cell_type": "code",
   "execution_count": 6,
   "metadata": {},
   "outputs": [
    {
     "data": {
      "text/plain": [
       "human_dynamics (generic function with 1 method)"
      ]
     },
     "metadata": {},
     "output_type": "display_data"
    }
   ],
   "source": [
    "# return updated z\n",
    "function human_dynamics(h, r, z, phi)\n",
    "    if phi == 0\n",
    "        return z\n",
    "    else\n",
    "        if h == 0 || r == 0\n",
    "            return 0\n",
    "        else\n",
    "            return z\n",
    "        end\n",
    "    end\n",
    "end"
   ]
  },
  {
   "cell_type": "code",
   "execution_count": 7,
   "metadata": {},
   "outputs": [
    {
     "name": "stdout",
     "output_type": "stream",
     "text": [
      "z_updated 1"
     ]
    },
    {
     "name": "stdout",
     "output_type": "stream",
     "text": [
      "\n",
      "p_stop 0.1\n"
     ]
    }
   ],
   "source": [
    "h_test = 0\n",
    "r_test = 0\n",
    "z_test = 1\n",
    "phi_test = 0\n",
    "z_up_test = human_dynamics(h_test, r_test, z_test, phi_test)\n",
    "print(\"z_updated \")\n",
    "println(z_up_test)\n",
    "hp_test = human_policy(h_test, r_test, z_up_test)\n",
    "print(\"p_stop \")\n",
    "println(hp_test) "
   ]
  },
  {
   "cell_type": "code",
   "execution_count": 8,
   "metadata": {},
   "outputs": [],
   "source": [
    "struct drivePOMDP <: POMDP{driveState, Int, driveObservation} # POMDP{State, Action, Observation}\n",
    "    discount_factor::Float64 # discount \n",
    "end"
   ]
  },
  {
   "cell_type": "code",
   "execution_count": 9,
   "metadata": {},
   "outputs": [
    {
     "data": {
      "text/plain": [
       "drivePOMDP"
      ]
     },
     "metadata": {},
     "output_type": "display_data"
    }
   ],
   "source": [
    "drivePOMDP() = drivePOMDP(0.95)"
   ]
  },
  {
   "cell_type": "code",
   "execution_count": 10,
   "metadata": {},
   "outputs": [
    {
     "data": {
      "text/plain": [
       "driveState[]"
      ]
     },
     "metadata": {},
     "output_type": "display_data"
    }
   ],
   "source": [
    "s = driveState[] # initialize an array of GridWorldStates\n",
    "    "
   ]
  },
  {
   "cell_type": "code",
   "execution_count": 11,
   "metadata": {},
   "outputs": [],
   "source": [
    "for phi = 0:1, z = 0:1, y = 0:1, x = 0:1\n",
    "    push!(s, driveState(x,y,z,phi))\n",
    "end"
   ]
  },
  {
   "cell_type": "code",
   "execution_count": 12,
   "metadata": {},
   "outputs": [
    {
     "name": "stdout",
     "output_type": "stream",
     "text": [
      "driveState(1, 0, 1, 1)\n"
     ]
    }
   ],
   "source": [
    "println(s[14])"
   ]
  },
  {
   "cell_type": "code",
   "execution_count": 13,
   "metadata": {},
   "outputs": [],
   "source": [
    "POMDPs.states(pomdp::drivePOMDP) = s"
   ]
  },
  {
   "cell_type": "code",
   "execution_count": 14,
   "metadata": {},
   "outputs": [
    {
     "data": {
      "text/plain": [
       "drivePOMDP(0.95)"
      ]
     },
     "metadata": {},
     "output_type": "display_data"
    }
   ],
   "source": [
    "mdp_2 = drivePOMDP() "
   ]
  },
  {
   "cell_type": "code",
   "execution_count": 15,
   "metadata": {},
   "outputs": [
    {
     "data": {
      "text/plain": [
       "16-element Vector{driveState}:\n",
       " driveState(0, 0, 0, 0)\n",
       " driveState(1, 0, 0, 0)\n",
       " driveState(0, 1, 0, 0)\n",
       " driveState(1, 1, 0, 0)\n",
       " driveState(0, 0, 1, 0)\n",
       " driveState(1, 0, 1, 0)\n",
       " driveState(0, 1, 1, 0)\n",
       " driveState(1, 1, 1, 0)\n",
       " driveState(0, 0, 0, 1)\n",
       " driveState(1, 0, 0, 1)\n",
       " driveState(0, 1, 0, 1)\n",
       " driveState(1, 1, 0, 1)\n",
       " driveState(0, 0, 1, 1)\n",
       " driveState(1, 0, 1, 1)\n",
       " driveState(0, 1, 1, 1)\n",
       " driveState(1, 1, 1, 1)"
      ]
     },
     "metadata": {},
     "output_type": "display_data"
    }
   ],
   "source": [
    "s_space = states(mdp_2)"
   ]
  },
  {
   "cell_type": "code",
   "execution_count": 16,
   "metadata": {},
   "outputs": [],
   "source": [
    "function POMDPs.stateindex(pomdp::drivePOMDP, state::driveState)  \n",
    "    idx = 1 + state.h*(2^0) + state.r*(2^1) + state.z*(2^2)+ state.phi*(2^3) # check if idx is being correctly returned\n",
    "    return idx \n",
    "end"
   ]
  },
  {
   "cell_type": "code",
   "execution_count": 17,
   "metadata": {},
   "outputs": [
    {
     "data": {
      "text/plain": [
       "5"
      ]
     },
     "metadata": {},
     "output_type": "display_data"
    }
   ],
   "source": [
    "num = stateindex(mdp_2,  driveState(0, 0, 1, 0))"
   ]
  },
  {
   "cell_type": "code",
   "execution_count": 18,
   "metadata": {},
   "outputs": [],
   "source": [
    "POMDPs.actions(pomdp::drivePOMDP) = [0, 1]"
   ]
  },
  {
   "cell_type": "code",
   "execution_count": 19,
   "metadata": {},
   "outputs": [
    {
     "data": {
      "text/plain": [
       "2-element Vector{Int64}:\n",
       " 0\n",
       " 1"
      ]
     },
     "metadata": {},
     "output_type": "display_data"
    }
   ],
   "source": [
    "j_1 = actions(mdp_2)"
   ]
  },
  {
   "cell_type": "code",
   "execution_count": 20,
   "metadata": {},
   "outputs": [
    {
     "name": "stdout",
     "output_type": "stream",
     "text": [
      "[0, 1]"
     ]
    }
   ],
   "source": [
    "print(j_1)"
   ]
  },
  {
   "cell_type": "code",
   "execution_count": 21,
   "metadata": {},
   "outputs": [],
   "source": [
    "function POMDPs.actionindex(pomdp::drivePOMDP, act::Int64)\n",
    "    if act==0\n",
    "        return 1\n",
    "    elseif act==1\n",
    "        return 2\n",
    "    end\n",
    "end"
   ]
  },
  {
   "cell_type": "code",
   "execution_count": 22,
   "metadata": {},
   "outputs": [
    {
     "data": {
      "text/plain": [
       "1"
      ]
     },
     "metadata": {},
     "output_type": "display_data"
    }
   ],
   "source": [
    "m_1 = actionindex(mdp_2, 0)"
   ]
  },
  {
   "cell_type": "code",
   "execution_count": 23,
   "metadata": {},
   "outputs": [],
   "source": [
    "function POMDPs.observations(pomdp::drivePOMDP)\n",
    "    s = driveObservation[] \n",
    "    for h = 0:1, r = 0:1, a = 0:1\n",
    "        push!(s,driveObservation(h,r,a))\n",
    "    end\n",
    "    return s\n",
    "end"
   ]
  },
  {
   "cell_type": "code",
   "execution_count": 24,
   "metadata": {},
   "outputs": [
    {
     "data": {
      "text/plain": [
       "8-element Vector{driveObservation}:\n",
       " driveObservation(0, 0, 0)\n",
       " driveObservation(0, 0, 1)\n",
       " driveObservation(0, 1, 0)\n",
       " driveObservation(0, 1, 1)\n",
       " driveObservation(1, 0, 0)\n",
       " driveObservation(1, 0, 1)\n",
       " driveObservation(1, 1, 0)\n",
       " driveObservation(1, 1, 1)"
      ]
     },
     "metadata": {},
     "output_type": "display_data"
    }
   ],
   "source": [
    "ob_space = observations(mdp_2)"
   ]
  },
  {
   "cell_type": "code",
   "execution_count": 25,
   "metadata": {},
   "outputs": [],
   "source": [
    "function POMDPs.obsindex(pomdp::drivePOMDP, o::driveObservation)\n",
    "    idx = 1 + o.h*(2^0) + o.r*(2^1) + o.a*(2^2)\n",
    "    return idx \n",
    "end"
   ]
  },
  {
   "cell_type": "code",
   "execution_count": 26,
   "metadata": {},
   "outputs": [
    {
     "data": {
      "text/plain": [
       "8"
      ]
     },
     "metadata": {},
     "output_type": "display_data"
    }
   ],
   "source": [
    "obs_idx = obsindex(mdp_2, driveObservation(1,1,1))"
   ]
  },
  {
   "cell_type": "code",
   "execution_count": 27,
   "metadata": {},
   "outputs": [],
   "source": [
    "function POMDPs.reward(pomdp::drivePOMDP, state::driveState, act::Int64)\n",
    "    h = state.h\n",
    "    r = state.r\n",
    "    if h == 0 && r == 0\n",
    "        rwd = 0\n",
    "    elseif h == 1 && r == 0\n",
    "        rwd = -3\n",
    "    elseif h == 1 && r == 1\n",
    "        rwd = -10\n",
    "    elseif h == 0 && r == 1\n",
    "        rwd = +5\n",
    "    else\n",
    "        rwd = 0\n",
    "    end\n",
    "    return rwd\n",
    "end"
   ]
  },
  {
   "cell_type": "code",
   "execution_count": 28,
   "metadata": {},
   "outputs": [
    {
     "data": {
      "text/plain": [
       "-10"
      ]
     },
     "metadata": {},
     "output_type": "display_data"
    }
   ],
   "source": [
    "rwd = reward(mdp_2, driveState(1,1,0,1), 0)"
   ]
  },
  {
   "cell_type": "code",
   "execution_count": 29,
   "metadata": {},
   "outputs": [],
   "source": [
    "function POMDPs.observation(pomdp::drivePOMDP, act::Int64, state::driveState)\n",
    "    h, r, z, phi = state.h, state.r, state.z, state.phi\n",
    "    a = act\n",
    "    p_stop = human_policy(h, r, z)\n",
    "\n",
    "    # If the action to stop is taken by the robot, the human stops at a probability of p_stop this distribution needs to be returned for both stop action and go action.\n",
    "    if a == 0\n",
    "        if r == 0 && h == 0\n",
    "            return SparseCat([driveObservation(0,0,a), driveObservation(1,0,a)], [p_stop, 1-p_stop])\n",
    "        else\n",
    "            return Deterministic(1.0e-9)\n",
    "        end\n",
    "    elseif a == 1\n",
    "        if r  == 0 && h == 0\n",
    "            return SparseCat([driveObservation(0,1,a), driveObservation(1,1,a)], [p_stop, 1-p_stop])\n",
    "        else\n",
    "            return Deterministic(1.0e-9)\n",
    "        end\n",
    "    else\n",
    "        return Deterministic(1.0e-9)\n",
    "    end\n",
    "end"
   ]
  },
  {
   "cell_type": "code",
   "execution_count": 30,
   "metadata": {},
   "outputs": [
    {
     "name": "stdout",
     "output_type": "stream",
     "text": [
      "p_stop0.1\n"
     ]
    },
    {
     "data": {
      "text/plain": [
       "                                       \u001b[97;1mSparseCat distribution\u001b[0m           \n",
       "                             \u001b[38;5;8m┌                                        ┐\u001b[0m \n",
       "   driveObservation(0, 1, 1) \u001b[38;5;8m┤\u001b[0m\u001b[38;5;2m■■■■\u001b[0m 0.1                                \u001b[38;5;8m \u001b[0m \u001b[38;5;8m\u001b[0m\n",
       "   driveObservation(1, 1, 1) \u001b[38;5;8m┤\u001b[0m\u001b[38;5;2m■■■■■■■■■■■■■■■■■■■■■■■■■■■■■■■■■■■\u001b[0m 0.9 \u001b[38;5;8m \u001b[0m \u001b[38;5;8m\u001b[0m\n",
       "                             \u001b[38;5;8m└                                        ┘\u001b[0m "
      ]
     },
     "metadata": {},
     "output_type": "display_data"
    }
   ],
   "source": [
    "obsdist = observation(mdp_2,1, driveState(0,0,1,1))"
   ]
  },
  {
   "cell_type": "code",
   "execution_count": 31,
   "metadata": {},
   "outputs": [],
   "source": [
    "function POMDPs.transition(pomdp::drivePOMDP, state::driveState, act::Int64)\n",
    "    h, r, z, phi = state.h, state.r, state.z, state.phi\n",
    "    a = act\n",
    "    p_stop = human_policy(h, r, z)\n",
    "\n",
    "    # reset the game\n",
    "    if h > 0 || r > 0\n",
    "        return Deterministic(driveState(0,0,z,phi))\n",
    "    elseif h == 0 && r == 0\n",
    "        if a == 0\n",
    "            return SparseCat([driveState(0,0,z,phi), driveState(0,1,z,phi)], [p_stop, 1-p_stop])\n",
    "        elseif a == 1\n",
    "            return SparseCat([driveState(1,0,z,phi), driveState(1,1,z,phi)], [p_stop, 1-p_stop])\n",
    "        else\n",
    "            return Deterministic(1.0e-9)\n",
    "        end\n",
    "    else\n",
    "        return Deterministic(1.0e-9)\n",
    "    end\n",
    "end"
   ]
  },
  {
   "cell_type": "code",
   "execution_count": 32,
   "metadata": {},
   "outputs": [
    {
     "data": {
      "text/plain": [
       "                                    \u001b[97;1mSparseCat distribution\u001b[0m           \n",
       "                          \u001b[38;5;8m┌                                        ┐\u001b[0m \n",
       "   driveState(0, 0, 1, 1) \u001b[38;5;8m┤\u001b[0m\u001b[38;5;2m■■■■\u001b[0m 0.1                                \u001b[38;5;8m \u001b[0m \u001b[38;5;8m\u001b[0m\n",
       "   driveState(0, 1, 1, 1) \u001b[38;5;8m┤\u001b[0m\u001b[38;5;2m■■■■■■■■■■■■■■■■■■■■■■■■■■■■■■■■■■■\u001b[0m 0.9 \u001b[38;5;8m \u001b[0m \u001b[38;5;8m\u001b[0m\n",
       "                          \u001b[38;5;8m└                                        ┘\u001b[0m "
      ]
     },
     "metadata": {},
     "output_type": "display_data"
    }
   ],
   "source": [
    "trans_test = transition(mdp_2, driveState(0,0,1,1),0)"
   ]
  },
  {
   "cell_type": "code",
   "execution_count": 33,
   "metadata": {},
   "outputs": [],
   "source": [
    "POMDPs.initialstate(pomdp::drivePOMDP) = SparseCat([(driveState(0, 0, 1, 1)), driveState(0,0,1,0)], [0.5, 0.5])"
   ]
  },
  {
   "cell_type": "code",
   "execution_count": 34,
   "metadata": {},
   "outputs": [],
   "source": [
    "POMDPs.discount(pomdp::drivePOMDP) = pomdp.discount_factor"
   ]
  },
  {
   "cell_type": "code",
   "execution_count": 35,
   "metadata": {},
   "outputs": [
    {
     "data": {
      "text/plain": [
       "drivePOMDP(0.95)"
      ]
     },
     "metadata": {},
     "output_type": "display_data"
    }
   ],
   "source": [
    "mdp_3 = drivePOMDP()"
   ]
  },
  {
   "cell_type": "code",
   "execution_count": 36,
   "metadata": {},
   "outputs": [
    {
     "data": {
      "text/plain": [
       "RandomPolicy{Random.TaskLocalRNG, drivePOMDP, NothingUpdater}(Random.TaskLocalRNG(), drivePOMDP(0.95), NothingUpdater())"
      ]
     },
     "metadata": {},
     "output_type": "display_data"
    }
   ],
   "source": [
    "using POMDPSimulators\n",
    "using POMDPPolicies\n",
    "policy = RandomPolicy(mdp_3)"
   ]
  },
  {
   "cell_type": "code",
   "execution_count": 37,
   "metadata": {},
   "outputs": [
    {
     "name": "stdout",
     "output_type": "stream",
     "text": [
      "RandomPolicy{Random.TaskLocalRNG, drivePOMDP, NothingUpdater}(Random"
     ]
    },
    {
     "name": "stdout",
     "output_type": "stream",
     "text": [
      ".TaskLocalRNG(), drivePOMDP(0.95), NothingUpdater())\n"
     ]
    }
   ],
   "source": [
    "println(policy)"
   ]
  },
  {
   "cell_type": "code",
   "execution_count": 38,
   "metadata": {},
   "outputs": [
    {
     "name": "stdout",
     "output_type": "stream",
     "text": [
      "s = driveState(0, 0, 1, 1)\n",
      "a = 1\n",
      "r = 0\n",
      "\n",
      "s = driveState(1, 1, 1, 1)\n",
      "a = 0\n",
      "r = -10\n",
      "\n",
      "s = driveState(0, 0, 1, 1)\n",
      "a = 1\n",
      "r = 0\n",
      "\n",
      "p_stop0.1\n",
      "s = driveState(1, 1, 1, 1)\n",
      "a = 1\n",
      "r = -10\n",
      "\n",
      "s = driveState(0, 0, 1, 1)\n",
      "a = 0\n",
      "r = 0\n",
      "\n",
      "p_stop0.1\n",
      "s = driveState(0, 1, 1, 1)\n",
      "a = 1\n",
      "r = 5\n",
      "\n",
      "s = driveState(0, 0, 1, 1)\n",
      "a = 1\n",
      "r = 0\n",
      "\n",
      "s = driveState(1, 1, 1, 1)\n",
      "a = 0\n",
      "r = -10\n",
      "\n",
      "s = driveState(0, 0, 1, 1)\n",
      "a = 1\n",
      "r = 0\n",
      "\n",
      "p_stop0.1\n",
      "s = driveState(1, 0, 1, 1)\n",
      "a = 1\n",
      "r = -3\n",
      "\n"
     ]
    }
   ],
   "source": [
    "for (s, a, r) in stepthrough(mdp_3, policy, \"s, a, r\", max_steps=10)\n",
    "    @show s\n",
    "    @show a\n",
    "    @show r\n",
    "    println()\n",
    "end"
   ]
  },
  {
   "cell_type": "code",
   "execution_count": 39,
   "metadata": {},
   "outputs": [
    {
     "data": {
      "text/plain": [
       "FIBSolver(100, 0.001, false)"
      ]
     },
     "metadata": {},
     "output_type": "display_data"
    }
   ],
   "source": [
    "solver = FIBSolver()"
   ]
  },
  {
   "cell_type": "code",
   "execution_count": 40,
   "metadata": {},
   "outputs": [
    {
     "name": "stdout",
     "output_type": "stream",
     "text": [
      "p_stop0.9\n",
      "p_stop0.9\n",
      "p_stop0.9\n",
      "p_stop0.9\n",
      "p_stop0.9\n",
      "p_stop0.9\n",
      "p_stop0.9\n",
      "p_stop0.9\n",
      "p_stop0.9\n",
      "p_stop0.9\n",
      "p_stop0.9\n",
      "p_stop0.9\n",
      "p_stop0.9\n",
      "p_stop0.9\n",
      "p_stop0.9\n",
      "p_stop0.9\n",
      "p_stop0.9\n",
      "p_stop0.9\n",
      "p_stop0.9\n",
      "p_stop0.9\n",
      "p_stop0.9\n",
      "p_stop0.9\n",
      "p_stop0.9\n",
      "p_stop0.9\n",
      "p_stop0.9\n",
      "p_stop0.9\n",
      "p_stop0.9\n",
      "p_stop0.9\n",
      "p_stop0.9\n",
      "p_stop0.9\n",
      "p_stop0.9\n",
      "p_stop0.9\n",
      "p_stop0.9\n",
      "p_stop0.9\n",
      "p_stop0.9\n",
      "p_stop0.9\n",
      "p_stop0.9\n",
      "p_stop0.9\n",
      "p_stop0.9\n",
      "p_stop0.9\n",
      "p_stop0.9\n",
      "p_stop0.9\n",
      "p_stop0.9\n",
      "p_stop0.9\n",
      "p_stop0.9\n",
      "p_stop0.9\n",
      "p_stop0.9\n",
      "p_stop0.9\n",
      "p_stop0.1\n",
      "p_stop0.1\n",
      "p_stop0.1\n",
      "p_stop0.1\n",
      "p_stop0.1\n",
      "p_stop0.1\n",
      "p_stop0.1\n",
      "p_stop0.1\n",
      "p_stop0.1\n",
      "p_stop0.1\n",
      "p_stop0.1\n",
      "p_stop0.1\n",
      "p_stop0.1\n",
      "p_stop0.1\n",
      "p_stop0.1\n",
      "p_stop0.1\n",
      "p_stop0.1\n",
      "p_stop0.1\n",
      "p_stop0.1\n",
      "p_stop0.1\n",
      "p_stop0.1\n",
      "p_stop0.1\n",
      "p_stop0.1\n",
      "p_stop0.1\n",
      "p_stop0.1\n",
      "p_stop0.1\n",
      "p_stop0.1\n",
      "p_stop0.1\n",
      "p_stop0.1\n",
      "p_stop0.1\n",
      "p_stop0.1\n",
      "p_stop0.1\n",
      "p_stop0.1\n",
      "p_stop0.1\n",
      "p_stop0.1\n",
      "p_stop0.1\n",
      "p_stop0.1\n",
      "p_stop0.1\n",
      "p_stop0.1\n",
      "p_stop0.1\n",
      "p_stop0.1\n",
      "p_stop0.1\n",
      "p_stop0.1\n",
      "p_stop0.1\n",
      "p_stop0.1\n",
      "p_stop0.1\n",
      "p_stop0.1\n",
      "p_stop0.1\n",
      "p_stop0.9\n",
      "p_stop0.9\n",
      "p_stop0.9\n",
      "p_stop0.9\n",
      "p_stop0.9\n",
      "p_stop0.9\n",
      "p_stop0.9\n",
      "p_stop0.9\n",
      "p_stop0.9\n",
      "p_stop0.9\n",
      "p_stop0.9\n",
      "p_stop0.9\n",
      "p_stop0.9\n",
      "p_stop0.9\n",
      "p_stop0.9\n",
      "p_stop0.9\n",
      "p_stop0.9\n",
      "p_stop0.9\n",
      "p_stop0.9\n",
      "p_stop0.9\n",
      "p_stop0.9\n",
      "p_stop0.9\n",
      "p_stop0.9\n",
      "p_stop0.9\n",
      "p_stop0.9\n",
      "p_stop0.9\n",
      "p_stop0.9\n",
      "p_stop0.9\n",
      "p_stop0.9\n",
      "p_stop0.9\n",
      "p_stop0.9\n",
      "p_stop0.9\n",
      "p_stop0.9\n",
      "p_stop0.9\n",
      "p_stop0.9\n",
      "p_stop0.9\n",
      "p_stop0.9\n",
      "p_stop0.9\n",
      "p_stop0.9\n",
      "p_stop0.9\n",
      "p_stop0.9\n",
      "p_stop0.9\n",
      "p_stop0.9\n",
      "p_stop0.9\n",
      "p_stop0.9\n",
      "p_stop0.9\n",
      "p_stop0.9\n",
      "p_stop0.9\n",
      "p_stop0.1\n",
      "p_stop0.1\n",
      "p_stop0.1\n",
      "p_stop0.1\n",
      "p_stop0.1\n",
      "p_stop0.1\n",
      "p_stop0.1\n",
      "p_stop0.1\n",
      "p_stop0.1\n",
      "p_stop0.1\n",
      "p_stop0.1\n",
      "p_stop0.1\n",
      "p_stop0.1\n",
      "p_stop0.1\n",
      "p_stop0.1\n",
      "p_stop0.1\n",
      "p_stop0.1\n",
      "p_stop0.1\n",
      "p_stop0.1\n",
      "p_stop0.1\n",
      "p_stop0.1\n",
      "p_stop0.1\n",
      "p_stop0.1\n",
      "p_stop0.1\n",
      "p_stop0.1\n",
      "p_stop0.1\n",
      "p_stop0.1\n",
      "p_stop0.1\n",
      "p_stop0.1\n",
      "p_stop0.1\n",
      "p_stop0.1\n",
      "p_stop0.1\n",
      "p_stop0.1\n",
      "p_stop0.1\n",
      "p_stop0.1\n",
      "p_stop0.1\n",
      "p_stop0.1\n",
      "p_stop0.1\n",
      "p_stop0.1\n",
      "p_stop0.1\n",
      "p_stop0.1\n",
      "p_stop0.1\n",
      "p_stop0.1\n",
      "p_stop0.1\n",
      "p_stop0.1\n",
      "p_stop0.1\n",
      "p_stop0.1\n",
      "p_stop0.1\n",
      "p_stop0.9\n",
      "p_stop0.9\n",
      "p_stop0.9\n",
      "p_stop0.9\n",
      "p_stop0.9\n",
      "p_stop0.9\n",
      "p_stop0.9\n",
      "p_stop0.9\n",
      "p_stop0.9\n",
      "p_stop0.9\n",
      "p_stop0.9\n",
      "p_stop0.9\n",
      "p_stop0.9\n",
      "p_stop0.9\n",
      "p_stop0.9\n",
      "p_stop0.9\n",
      "p_stop0.9\n",
      "p_stop0.9\n",
      "p_stop0.9\n",
      "p_stop0.9\n",
      "p_stop0.9\n",
      "p_stop0.9\n",
      "p_stop0.9\n",
      "p_stop0.9\n",
      "p_stop0.9\n",
      "p_stop0.9\n",
      "p_stop0.9\n",
      "p_stop0.9\n",
      "p_stop0.9\n",
      "p_stop0.9\n",
      "p_stop0.9\n",
      "p_stop0.9\n",
      "p_stop0.9\n",
      "p_stop0.9\n",
      "p_stop0.9\n",
      "p_stop0.9\n",
      "p_stop0.9\n",
      "p_stop0.9\n",
      "p_stop0.9\n",
      "p_stop0.9\n",
      "p_stop0.9\n",
      "p_stop0.9\n",
      "p_stop0.9\n",
      "p_stop0.9\n",
      "p_stop0.9\n",
      "p_stop0.9\n",
      "p_stop0.9\n",
      "p_stop0.9\n",
      "p_stop0.1\n",
      "p_stop0.1\n",
      "p_stop0.1\n",
      "p_stop0.1\n",
      "p_stop0.1\n",
      "p_stop0.1\n",
      "p_stop0.1\n",
      "p_stop0.1\n",
      "p_stop0.1\n",
      "p_stop0.1\n",
      "p_stop0.1\n",
      "p_stop0.1\n",
      "p_stop0.1\n",
      "p_stop0.1\n",
      "p_stop0.1\n",
      "p_stop0.1\n",
      "p_stop0.1\n",
      "p_stop0.1\n",
      "p_stop0.1\n",
      "p_stop0.1\n",
      "p_stop0.1\n",
      "p_stop0.1\n",
      "p_stop0.1\n",
      "p_stop0.1\n",
      "p_stop0.1\n",
      "p_stop0.1\n",
      "p_stop0.1\n",
      "p_stop0.1\n",
      "p_stop0.1\n",
      "p_stop0.1\n",
      "p_stop0.1\n",
      "p_stop0.1\n",
      "p_stop0.1\n",
      "p_stop0.1\n",
      "p_stop0.1\n",
      "p_stop0.1\n",
      "p_stop0.1\n",
      "p_stop0.1\n",
      "p_stop0.1\n",
      "p_stop0.1\n",
      "p_stop0.1\n",
      "p_stop0.1\n",
      "p_stop0.1\n",
      "p_stop0.1\n",
      "p_stop0.1\n",
      "p_stop0.1\n",
      "p_stop0.1\n",
      "p_stop0.1\n",
      "p_stop0.9\n",
      "p_stop0.9\n",
      "p_stop0.9\n",
      "p_stop0.9\n",
      "p_stop0.9\n",
      "p_stop0.9\n",
      "p_stop0.9\n",
      "p_stop0.9\n",
      "p_stop0.9\n",
      "p_stop0.9\n",
      "p_stop0.9\n",
      "p_stop0.9\n",
      "p_stop0.9\n",
      "p_stop0.9\n",
      "p_stop0.9\n",
      "p_stop0.9\n",
      "p_stop0.9\n",
      "p_stop0.9\n",
      "p_stop0.9\n",
      "p_stop0.9\n",
      "p_stop0.9\n",
      "p_stop0.9\n",
      "p_stop0.9\n",
      "p_stop0.9\n",
      "p_stop0.9\n",
      "p_stop0.9\n",
      "p_stop0.9\n",
      "p_stop0.9\n",
      "p_stop0.9\n",
      "p_stop0.9\n",
      "p_stop0.9\n",
      "p_stop0.9\n",
      "p_stop0.9\n",
      "p_stop0.9\n",
      "p_stop0.9\n",
      "p_stop0.9\n",
      "p_stop0.9\n",
      "p_stop0.9\n",
      "p_stop0.9\n",
      "p_stop0.9\n",
      "p_stop0.9\n",
      "p_stop0.9\n",
      "p_stop0.9\n",
      "p_stop0.9\n",
      "p_stop0.9\n",
      "p_stop0.9\n",
      "p_stop0.9\n",
      "p_stop0.9\n",
      "p_stop0.1\n",
      "p_stop0.1\n",
      "p_stop0.1\n",
      "p_stop0.1\n",
      "p_stop0.1\n",
      "p_stop0.1\n",
      "p_stop0.1\n",
      "p_stop0.1\n",
      "p_stop0.1\n",
      "p_stop0.1\n",
      "p_stop0.1\n",
      "p_stop0.1\n",
      "p_stop0.1\n",
      "p_stop0.1\n",
      "p_stop0.1\n",
      "p_stop0.1\n",
      "p_stop0.1\n",
      "p_stop0.1\n",
      "p_stop0.1\n",
      "p_stop0.1\n",
      "p_stop0.1\n",
      "p_stop0.1\n",
      "p_stop0.1\n",
      "p_stop0.1\n",
      "p_stop0.1\n",
      "p_stop0.1\n",
      "p_stop0.1\n",
      "p_stop0.1\n",
      "p_stop0.1\n",
      "p_stop0.1\n",
      "p_stop0.1\n",
      "p_stop0.1\n",
      "p_stop0.1\n",
      "p_stop0.1\n",
      "p_stop0.1\n",
      "p_stop0.1\n",
      "p_stop0.1\n",
      "p_stop0.1\n",
      "p_stop0.1\n",
      "p_stop0.1\n",
      "p_stop0.1\n",
      "p_stop0.1\n",
      "p_stop0.1\n",
      "p_stop0.1\n",
      "p_stop0.1\n",
      "p_stop0.1\n",
      "p_stop0.1\n",
      "p_stop0.1\n"
     ]
    },
    {
     "data": {
      "text/plain": [
       "AlphaVectorPolicy{drivePOMDP, Int64}(drivePOMDP(0.95), 16, [[0.0, -3.0, 5.0, -10.0, 0.0, -3.0, 5.0, -10.0, 0.0, -3.0, 5.0, -10.0, 0.0, -3.0, 5.0, -10.0], [0.0, -3.0, 5.0, -10.0, 0.0, -3.0, 5.0, -10.0, 0.0, -3.0, 5.0, -10.0, 0.0, -3.0, 5.0, -10.0]], [0, 1])"
      ]
     },
     "metadata": {},
     "output_type": "display_data"
    }
   ],
   "source": [
    "# Solve the problem offline and obtain the FIB policy which is an AlphaVectorPolicy\n",
    "fib_policy = solve(solver, mdp_3)"
   ]
  },
  {
   "cell_type": "code",
   "execution_count": 41,
   "metadata": {},
   "outputs": [],
   "source": [
    "\n",
    "# Create a TigerPOMDP policy that chooses actions at random\n",
    "rand_policy = RandomPolicy(mdp_3);"
   ]
  },
  {
   "cell_type": "code",
   "execution_count": 42,
   "metadata": {},
   "outputs": [
    {
     "name": "stdout",
     "output_type": "stream",
     "text": [
      "p_stop0.1\n",
      "p_stop0.1\n"
     ]
    }
   ],
   "source": [
    "# Create and run the rollout simulator\n",
    "rollout_sim = RolloutSimulator(max_steps=10);\n",
    "fib_reward = simulate(rollout_sim, mdp_3, fib_policy);\n",
    "rand_reward = simulate(rollout_sim, mdp_3, rand_policy);"
   ]
  },
  {
   "cell_type": "code",
   "execution_count": 43,
   "metadata": {},
   "outputs": [
    {
     "name": "stdout",
     "output_type": "stream",
     "text": [
      "fib_reward = 19.54871321659179\n",
      "rand_reward = 9.073653775185544\n"
     ]
    }
   ],
   "source": [
    "@show fib_reward;\n",
    "@show rand_reward;"
   ]
  },
  {
   "cell_type": "code",
   "execution_count": 44,
   "metadata": {},
   "outputs": [
    {
     "data": {
      "text/plain": [
       "POMCPPlanner{drivePOMDP, BasicPOMCP.SolvedPORollout{RandomPolicy{Random._GLOBAL_RNG, drivePOMDP, NothingUpdater}, NothingUpdater, Random._GLOBAL_RNG}, Random._GLOBAL_RNG}(POMCPSolver\n",
       "  max_depth: Int64 20\n",
       "  c: Float64 1.0\n",
       "  tree_queries: Int64 1000\n",
       "  max_time: Float64 Inf\n",
       "  tree_in_info: Bool false\n",
       "  default_action: ExceptionRethrow ExceptionRethrow()\n",
       "  rng: Random._GLOBAL_RNG Random._GLOBAL_RNG()\n",
       "  estimate_value: RolloutEstimator\n",
       ", drivePOMDP(0.95), BasicPOMCP.SolvedPORollout{RandomPolicy{Random._GLOBAL_RNG, drivePOMDP, NothingUpdater}, NothingUpdater, Random._GLOBAL_RNG}(RandomPolicy{Random._GLOBAL_RNG, drivePOMDP, NothingUpdater}(Random._GLOBAL_RNG(), drivePOMDP(0.95), NothingUpdater()), NothingUpdater(), Random._GLOBAL_RNG()), Random._GLOBAL_RNG(), Int64[], nothing)"
      ]
     },
     "metadata": {},
     "output_type": "display_data"
    }
   ],
   "source": [
    "using POMDPs, POMDPModels, POMDPSimulators, BasicPOMCP\n",
    "\n",
    "solver = POMCPSolver()\n",
    "planner = solve(solver, mdp_3)"
   ]
  },
  {
   "cell_type": "code",
   "execution_count": 45,
   "metadata": {},
   "outputs": [
    {
     "data": {
      "text/plain": [
       "                                    \u001b[97;1mSparseCat distribution\u001b[0m           \n",
       "                          \u001b[38;5;8m┌                                        ┐\u001b[0m \n",
       "   driveState(0, 0, 1, 1) \u001b[38;5;8m┤\u001b[0m\u001b[38;5;2m■■■■■■■■■■■■■■■■■■■■■■■■■■■■■■■■■■■\u001b[0m 0.5 \u001b[38;5;8m \u001b[0m \u001b[38;5;8m\u001b[0m\n",
       "   driveState(0, 0, 1, 0) \u001b[38;5;8m┤\u001b[0m\u001b[38;5;2m■■■■■■■■■■■■■■■■■■■■■■■■■■■■■■■■■■■\u001b[0m 0.5 \u001b[38;5;8m \u001b[0m \u001b[38;5;8m\u001b[0m\n",
       "                          \u001b[38;5;8m└                                        ┘\u001b[0m "
      ]
     },
     "metadata": {},
     "output_type": "display_data"
    }
   ],
   "source": [
    "b = initialstate(mdp_3)\n"
   ]
  },
  {
   "cell_type": "code",
   "execution_count": 47,
   "metadata": {},
   "outputs": [
    {
     "ename": "MethodError",
     "evalue": "MethodError: Cannot `convert` an object of type Float64 to an object of type driveObservation\n\nClosest candidates are:\n  convert(::Type{T}, !Matched::T) where T\n   @ Base Base.jl:84\n  driveObservation(::Any, !Matched::Any, !Matched::Any)\n   @ Main ~/Fall23/aizen/pomdp_test/drive_test_jl.ipynb:2\n",
     "output_type": "error",
     "traceback": [
      "MethodError: Cannot `convert` an object of type Float64 to an object of type driveObservation\n",
      "\n",
      "Closest candidates are:\n",
      "  convert(::Type{T}, !Matched::T) where T\n",
      "   @ Base Base.jl:84\n",
      "  driveObservation(::Any, !Matched::Any, !Matched::Any)\n",
      "   @ Main ~/Fall23/aizen/pomdp_test/drive_test_jl.ipynb:2\n",
      "\n",
      "\n",
      "Stacktrace:\n",
      " [1] push!(a::Vector{driveObservation}, item::Float64)\n",
      "   @ Base ./array.jl:1118\n",
      " [2] insert_obs_node!(t::BasicPOMCP.POMCPTree{Int64, driveObservation}, pomdp::drivePOMDP, ha::Int64, sp::driveState, o::Float64)\n",
      "   @ BasicPOMCP ~/.julia/packages/BasicPOMCP/ba47d/src/BasicPOMCP.jl:183\n",
      " [3] simulate(p::POMCPPlanner{drivePOMDP, BasicPOMCP.SolvedPORollout{RandomPolicy{Random._GLOBAL_RNG, drivePOMDP, NothingUpdater}, NothingUpdater, Random._GLOBAL_RNG}, Random._GLOBAL_RNG}, s::driveState, hnode::BasicPOMCP.POMCPObsNode{Int64, driveObservation}, steps::Int64)\n",
      "   @ BasicPOMCP ~/.julia/packages/BasicPOMCP/ba47d/src/solver.jl:94\n",
      " [4] search(p::POMCPPlanner{drivePOMDP, BasicPOMCP.SolvedPORollout{RandomPolicy{Random._GLOBAL_RNG, drivePOMDP, NothingUpdater}, NothingUpdater, Random._GLOBAL_RNG}, Random._GLOBAL_RNG}, b::SparseCat{Vector{driveState}, Vector{Float64}}, t::BasicPOMCP.POMCPTree{Int64, driveObservation}, info::Dict{Symbol, Any})\n",
      "   @ BasicPOMCP ~/.julia/packages/BasicPOMCP/ba47d/src/solver.jl:32\n",
      " [5] action_info(p::POMCPPlanner{drivePOMDP, BasicPOMCP.SolvedPORollout{RandomPolicy{Random._GLOBAL_RNG, drivePOMDP, NothingUpdater}, NothingUpdater, Random._GLOBAL_RNG}, Random._GLOBAL_RNG}, b::SparseCat{Vector{driveState}, Vector{Float64}}; tree_in_info::Bool)\n",
      "   @ BasicPOMCP ~/.julia/packages/BasicPOMCP/ba47d/src/solver.jl:6\n",
      " [6] action_info\n",
      "   @ BasicPOMCP ~/.julia/packages/BasicPOMCP/ba47d/src/solver.jl:1 [inlined]\n",
      " [7] action(p::POMCPPlanner{drivePOMDP, BasicPOMCP.SolvedPORollout{RandomPolicy{Random._GLOBAL_RNG, drivePOMDP, NothingUpdater}, NothingUpdater, Random._GLOBAL_RNG}, Random._GLOBAL_RNG}, b::SparseCat{Vector{driveState}, Vector{Float64}})\n",
      "   @ BasicPOMCP ~/.julia/packages/BasicPOMCP/ba47d/src/solver.jl:19\n",
      " [8] top-level scope\n",
      "   @ ~/Fall23/aizen/pomdp_test/drive_test_jl.ipynb:2"
     ]
    }
   ],
   "source": [
    "b = initialstate(mdp_3)\n",
    "a = action(planner, b)\n",
    "println(\"\"\"\n",
    "    POMCP Recommends action \n",
    "b.\n",
    "\n",
    "    (this may be a bad choice because the POMCP Parameters are set to their defaults.)\n",
    "\"\"\")"
   ]
  },
  {
   "cell_type": "code",
   "execution_count": 48,
   "metadata": {},
   "outputs": [
    {
     "name": "stdout",
     "output_type": "stream",
     "text": [
      "p_stop0.1\n",
      "p_stop0.1\n",
      "p_stop0.1\n",
      "p_stop0.1\n"
     ]
    },
    {
     "ename": "MethodError",
     "evalue": "MethodError: Cannot `convert` an object of type Float64 to an object of type driveObservation\n\nClosest candidates are:\n  convert(::Type{T}, !Matched::T) where T\n   @ Base Base.jl:84\n  driveObservation(::Any, !Matched::Any, !Matched::Any)\n   @ Main ~/Fall23/aizen/pomdp_test/drive_test_jl.ipynb:2\n",
     "output_type": "error",
     "traceback": [
      "MethodError: Cannot `convert` an object of type Float64 to an object of type driveObservation\n",
      "\n",
      "Closest candidates are:\n",
      "  convert(::Type{T}, !Matched::T) where T\n",
      "   @ Base Base.jl:84\n",
      "  driveObservation(::Any, !Matched::Any, !Matched::Any)\n",
      "   @ Main ~/Fall23/aizen/pomdp_test/drive_test_jl.ipynb:2\n",
      "\n",
      "\n",
      "Stacktrace:\n",
      " [1] push!(a::Vector{driveObservation}, item::Float64)\n",
      "   @ Base ./array.jl:1118\n",
      " [2] insert_obs_node!(t::BasicPOMCP.POMCPTree{Int64, driveObservation}, pomdp::drivePOMDP, ha::Int64, sp::driveState, o::Float64)\n",
      "   @ BasicPOMCP ~/.julia/packages/BasicPOMCP/ba47d/src/BasicPOMCP.jl:183\n",
      " [3] simulate(p::POMCPPlanner{drivePOMDP, BasicPOMCP.SolvedPORollout{RandomPolicy{Random._GLOBAL_RNG, drivePOMDP, NothingUpdater}, NothingUpdater, Random._GLOBAL_RNG}, Random._GLOBAL_RNG}, s::driveState, hnode::BasicPOMCP.POMCPObsNode{Int64, driveObservation}, steps::Int64)\n",
      "   @ BasicPOMCP ~/.julia/packages/BasicPOMCP/ba47d/src/solver.jl:94\n",
      " [4] search(p::POMCPPlanner{drivePOMDP, BasicPOMCP.SolvedPORollout{RandomPolicy{Random._GLOBAL_RNG, drivePOMDP, NothingUpdater}, NothingUpdater, Random._GLOBAL_RNG}, Random._GLOBAL_RNG}, b::ParticleFilters.ParticleCollection{driveState}, t::BasicPOMCP.POMCPTree{Int64, driveObservation}, info::Dict{Symbol, Any})\n",
      "   @ BasicPOMCP ~/.julia/packages/BasicPOMCP/ba47d/src/solver.jl:32\n",
      " [5] action_info(p::POMCPPlanner{drivePOMDP, BasicPOMCP.SolvedPORollout{RandomPolicy{Random._GLOBAL_RNG, drivePOMDP, NothingUpdater}, NothingUpdater, Random._GLOBAL_RNG}, Random._GLOBAL_RNG}, b::ParticleFilters.ParticleCollection{driveState}; tree_in_info::Bool)\n",
      "   @ BasicPOMCP ~/.julia/packages/BasicPOMCP/ba47d/src/solver.jl:6\n",
      " [6] action_info\n",
      "   @ ~/.julia/packages/BasicPOMCP/ba47d/src/solver.jl:1 [inlined]\n",
      " [7] iterate(it::POMDPTools.Simulators.POMDPSimIterator{(:s, :a, :o), drivePOMDP, POMCPPlanner{drivePOMDP, BasicPOMCP.SolvedPORollout{RandomPolicy{Random._GLOBAL_RNG, drivePOMDP, NothingUpdater}, NothingUpdater, Random._GLOBAL_RNG}, Random._GLOBAL_RNG}, ParticleFilters.UnweightedParticleFilter{drivePOMDP, Random._GLOBAL_RNG}, Random.TaskLocalRNG, ParticleFilters.ParticleCollection{driveState}, driveState}, is::Tuple{Int64, driveState, ParticleFilters.ParticleCollection{driveState}})\n",
      "   @ POMDPTools.Simulators ~/.julia/packages/POMDPTools/7Rekv/src/Simulators/stepthrough.jl:91\n",
      " [8] iterate(it::POMDPTools.Simulators.POMDPSimIterator{(:s, :a, :o), drivePOMDP, POMCPPlanner{drivePOMDP, BasicPOMCP.SolvedPORollout{RandomPolicy{Random._GLOBAL_RNG, drivePOMDP, NothingUpdater}, NothingUpdater, Random._GLOBAL_RNG}, Random._GLOBAL_RNG}, ParticleFilters.UnweightedParticleFilter{drivePOMDP, Random._GLOBAL_RNG}, Random.TaskLocalRNG, ParticleFilters.ParticleCollection{driveState}, driveState})\n",
      "   @ POMDPTools.Simulators ~/.julia/packages/POMDPTools/7Rekv/src/Simulators/stepthrough.jl:85\n",
      " [9] top-level scope\n",
      "   @ ~/Fall23/aizen/pomdp_test/drive_test_jl.ipynb:2"
     ]
    }
   ],
   "source": [
    "\n",
    "for (s, a, o) in stepthrough(mdp_3, planner, \"s,a,o\", max_steps=10)\n",
    "    println(\"State was $s,\")\n",
    "    println(\"action $a was taken,\")\n",
    "end"
   ]
  },
  {
   "cell_type": "code",
   "execution_count": 49,
   "metadata": {},
   "outputs": [
    {
     "ename": "UndefVarError",
     "evalue": "UndefVarError: `hist` not defined",
     "output_type": "error",
     "traceback": [
      "UndefVarError: `hist` not defined\n",
      "\n",
      "Stacktrace:\n",
      " [1] top-level scope\n",
      "   @ ~/Fall23/aizen/pomdp_test/drive_test_jl.ipynb:3"
     ]
    }
   ],
   "source": [
    "\n",
    "\n",
    "for (s, b, a, r, sp, o) in hist\n",
    "    @show s, a, r, sp\n",
    "end\n",
    "\n",
    "rhist = simulate(hr, mdp_3, RandomPolicy(mdp_3))\n",
    "println(\"\"\"\n",
    "    Cumulative Discounted Reward (for 1 simulation)\n",
    "        Random: $(discounted_reward(rhist))\n",
    "        POMCPOW: $(discounted_reward(hist))\n",
    "    \"\"\")"
   ]
  }
 ],
 "metadata": {
  "kernelspec": {
   "display_name": "Julia 1.10.0",
   "language": "julia",
   "name": "julia-1.10"
  },
  "language_info": {
   "file_extension": ".jl",
   "mimetype": "application/julia",
   "name": "julia",
   "version": "1.10.0"
  }
 },
 "nbformat": 4,
 "nbformat_minor": 2
}
